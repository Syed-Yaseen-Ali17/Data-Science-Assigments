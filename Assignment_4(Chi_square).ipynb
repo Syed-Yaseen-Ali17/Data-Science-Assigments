{
 "cells": [
  {
   "cell_type": "code",
   "execution_count": 41,
   "id": "45382b72",
   "metadata": {
    "scrolled": true
   },
   "outputs": [],
   "source": [
    "# 1. State the Hypotheses:\n",
    "# Null Hypothesis (H0): There is no association between customer satisfaction and device type.\n",
    "# Alternative Hypothesis (H1): There is an association between customer satisfaction and device type."
   ]
  },
  {
   "cell_type": "code",
   "execution_count": 42,
   "id": "925cebbd",
   "metadata": {},
   "outputs": [
    {
     "name": "stdout",
     "output_type": "stream",
     "text": [
      "Chi-Square Statistic: 5.638227513227513\n",
      "P-value: 0.22784371130697179\n",
      "Degrees of Freedom: 4\n",
      "Expected Frequencies:\n",
      " [[ 48.  72.]\n",
      " [ 72. 108.]\n",
      " [ 60.  90.]\n",
      " [ 32.  48.]\n",
      " [ 28.  42.]]\n"
     ]
    }
   ],
   "source": [
    "# 2. Compute the Chi-Square Statistic:\n",
    "import numpy as np\n",
    "# Import the necessary library\n",
    "from scipy.stats import chi2_contingency\n",
    "\n",
    "# Create the contingency table\n",
    "observed = np.array([[50, 70], [80, 100], [60, 90], [30, 50], [20, 50]])\n",
    "\n",
    "# Perform the Chi-Square test\n",
    "chi2_statistic, p, dof, expected = chi2_contingency(observed)\n",
    "\n",
    "# Print the results\n",
    "print(\"Chi-Square Statistic:\", chi2_statistic)\n",
    "print(\"P-value:\", p)\n",
    "print(\"Degrees of Freedom:\", dof)\n",
    "print(\"Expected Frequencies:\\n\", expected)"
   ]
  },
  {
   "cell_type": "code",
   "execution_count": 43,
   "id": "60488e05",
   "metadata": {},
   "outputs": [
    {
     "name": "stdout",
     "output_type": "stream",
     "text": [
      "Critical Value: 9.487729036781154\n"
     ]
    }
   ],
   "source": [
    "# 3. Determine the Critical Value:\n",
    "import scipy.stats as stats\n",
    "\n",
    "alpha = 0.05\n",
    "dof = (observed.shape[0] - 1) * (observed.shape[1] - 1)   # (rows - 1) * (columns - 1)\n",
    "critical_value = stats.chi2.ppf(1 - alpha, dof)\n",
    "print(\"Critical Value:\", critical_value)"
   ]
  },
  {
   "cell_type": "code",
   "execution_count": 44,
   "id": "390231d7",
   "metadata": {},
   "outputs": [
    {
     "name": "stdout",
     "output_type": "stream",
     "text": [
      "We fail to reject the null hypothesis. There is no evidence of a relationship between customer satisfaction and device type.\n"
     ]
    }
   ],
   "source": [
    "# 4. Make a Decision:\n",
    "if chi2_statistic > critical_value:\n",
    "  print(\"We reject the null hypothesis. There is evidence of a relationship between customer satisfaction and device type.\")\n",
    "else:\n",
    "  print(\"We fail to reject the null hypothesis. There is no evidence of a relationship between customer satisfaction and device type.\")"
   ]
  }
 ],
 "metadata": {
  "kernelspec": {
   "display_name": "Python 3 (ipykernel)",
   "language": "python",
   "name": "python3"
  },
  "language_info": {
   "codemirror_mode": {
    "name": "ipython",
    "version": 3
   },
   "file_extension": ".py",
   "mimetype": "text/x-python",
   "name": "python",
   "nbconvert_exporter": "python",
   "pygments_lexer": "ipython3",
   "version": "3.11.5"
  }
 },
 "nbformat": 4,
 "nbformat_minor": 5
}
