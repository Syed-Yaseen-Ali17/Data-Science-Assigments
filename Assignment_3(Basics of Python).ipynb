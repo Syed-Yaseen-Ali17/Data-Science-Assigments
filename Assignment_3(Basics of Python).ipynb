{
 "cells": [
  {
   "cell_type": "code",
   "execution_count": 3,
   "id": "c45ee9e1",
   "metadata": {},
   "outputs": [
    {
     "name": "stdout",
     "output_type": "stream",
     "text": [
      "Enter a number: 3\n",
      "3 is a prime number\n"
     ]
    }
   ],
   "source": [
    "# Exercise 1: Prime Numbers\n",
    "\n",
    "def is_prime(n):\n",
    "  if n <= 1:\n",
    "    return False\n",
    "  if n <= 3:\n",
    "    return True\n",
    "  if n % 2 == 0 or n % 3 == 0:\n",
    "    return False\n",
    "  i = 5\n",
    "  while i * i <= n:\n",
    "    if n % i == 0 or n % (i + 2) == 0:\n",
    "      return False\n",
    "    i += 6\n",
    "  return True\n",
    "\n",
    "# Get input from the user\n",
    "num = int(input(\"Enter a number: \"))\n",
    "\n",
    "# Check if the number is prime and print the result\n",
    "if is_prime(num):\n",
    "  print(num, \"is a prime number\")\n",
    "else:\n",
    "  print(num, \"is not a prime number\")"
   ]
  },
  {
   "cell_type": "code",
   "execution_count": 12,
   "id": "e8596a38",
   "metadata": {},
   "outputs": [
    {
     "name": "stdout",
     "output_type": "stream",
     "text": [
      "What is the product of 8 and 4? 32\n",
      "Correct answer!\n"
     ]
    }
   ],
   "source": [
    "#Exercise 2: Product of Random Numbers\n",
    "\n",
    "import random\n",
    "\n",
    "# Generate two random numbers\n",
    "num1 = random.randint(1, 10)\n",
    "num2 = random.randint(1, 10)\n",
    "\n",
    "# Calculate the correct product\n",
    "correct_product = num1 * num2\n",
    "\n",
    "# Ask the user for input\n",
    "user_answer = int(input(f\"What is the product of {num1} and {num2}? \"))\n",
    "\n",
    "# Check the answer and display the result\n",
    "if user_answer == correct_product:\n",
    "  print(\"Correct answer!\")\n",
    "else:\n",
    "  print(f\"Incorrect. The correct answer is {correct_product}.\")"
   ]
  },
  {
   "cell_type": "code",
   "execution_count": 14,
   "id": "7f5580c1",
   "metadata": {},
   "outputs": [
    {
     "name": "stdout",
     "output_type": "stream",
     "text": [
      "The square of 100 is 10000\n",
      "The square of 102 is 10404\n",
      "The square of 104 is 10816\n",
      "The square of 106 is 11236\n",
      "The square of 108 is 11664\n",
      "The square of 110 is 12100\n",
      "The square of 112 is 12544\n",
      "The square of 114 is 12996\n",
      "The square of 116 is 13456\n",
      "The square of 118 is 13924\n",
      "The square of 120 is 14400\n",
      "The square of 122 is 14884\n",
      "The square of 124 is 15376\n",
      "The square of 126 is 15876\n",
      "The square of 128 is 16384\n",
      "The square of 130 is 16900\n",
      "The square of 132 is 17424\n",
      "The square of 134 is 17956\n",
      "The square of 136 is 18496\n",
      "The square of 138 is 19044\n",
      "The square of 140 is 19600\n",
      "The square of 142 is 20164\n",
      "The square of 144 is 20736\n",
      "The square of 146 is 21316\n",
      "The square of 148 is 21904\n",
      "The square of 150 is 22500\n",
      "The square of 152 is 23104\n",
      "The square of 154 is 23716\n",
      "The square of 156 is 24336\n",
      "The square of 158 is 24964\n",
      "The square of 160 is 25600\n",
      "The square of 162 is 26244\n",
      "The square of 164 is 26896\n",
      "The square of 166 is 27556\n",
      "The square of 168 is 28224\n",
      "The square of 170 is 28900\n",
      "The square of 172 is 29584\n",
      "The square of 174 is 30276\n",
      "The square of 176 is 30976\n",
      "The square of 178 is 31684\n",
      "The square of 180 is 32400\n",
      "The square of 182 is 33124\n",
      "The square of 184 is 33856\n",
      "The square of 186 is 34596\n",
      "The square of 188 is 35344\n",
      "The square of 190 is 36100\n",
      "The square of 192 is 36864\n",
      "The square of 194 is 37636\n",
      "The square of 196 is 38416\n",
      "The square of 198 is 39204\n",
      "The square of 200 is 40000\n"
     ]
    }
   ],
   "source": [
    "#Exercise 3: Squares of Even/Odd Numbers\n",
    "\n",
    "# Choice: Even numbers\n",
    "for num in range(100, 201):\n",
    "  if num % 2 == 0:    # Check if the number is even\n",
    "    square = num ** 2\n",
    "    print(f\"The square of {num} is {square}\")"
   ]
  },
  {
   "cell_type": "code",
   "execution_count": 19,
   "id": "d70b7932",
   "metadata": {},
   "outputs": [
    {
     "name": "stdout",
     "output_type": "stream",
     "text": [
      "Enter a text:This is a sample text. This text will be used to demonstrate the word counter.\"\n",
      "'This': 2\n",
      "'is': 1\n",
      "'a': 1\n",
      "'sample': 1\n",
      "'text': 2\n",
      "'will': 1\n",
      "'be': 1\n",
      "'used': 1\n",
      "'to': 1\n",
      "'demonstrate': 1\n",
      "'the': 1\n",
      "'word': 1\n",
      "'counter': 1\n"
     ]
    }
   ],
   "source": [
    "#Exercise 4: Word counter\n",
    "def count_words(text):\n",
    "  word_counts = {}\n",
    "  words = text.split()   #split into words\n",
    "  for word in words:\n",
    "     # Remove punctuation from the word\n",
    "    word = ''.join(c for c in word if c.isalnum()) \n",
    "    if word:             # Check if the word is not empty\n",
    "      if word in word_counts:\n",
    "        word_counts[word] += 1\n",
    "      else:\n",
    "        word_counts[word] = 1\n",
    "  return word_counts\n",
    "\n",
    "# Get text input \n",
    "input_text = input(\"Enter a text: \")\n",
    "\n",
    "# Count the words and display the result\n",
    "word_counts = count_words(input_text)\n",
    "for word, count in word_counts.items():\n",
    "  print(f\"'{word}': {count}\")"
   ]
  },
  {
   "cell_type": "code",
   "execution_count": 1,
   "id": "61410037",
   "metadata": {},
   "outputs": [
    {
     "name": "stdout",
     "output_type": "stream",
     "text": [
      "Enter the input: racecar\n",
      "'racecar' is a palindrome\n"
     ]
    }
   ],
   "source": [
    "#Exercise 5: Check for Palindrome\n",
    "\n",
    "def is_palindrome(text):\n",
    "\n",
    "  # Remove spaces, punctuation, and convert to lowercase\n",
    "  input_text = ''.join(c for c in text.lower() if c.isalnum())\n",
    "  return input_text == input_text[::-1]  # Check if reversed string is the same \n",
    "\n",
    "# Example usage:\n",
    "input_string = input(\"Enter the input: \")\n",
    "if is_palindrome(input_string):\n",
    "  print(f\"'{input_string}' is a palindrome\")\n",
    "else:\n",
    "  print(f\"'{input_string}' is not a palindrome\") "
   ]
  }
 ],
 "metadata": {
  "kernelspec": {
   "display_name": "Python 3 (ipykernel)",
   "language": "python",
   "name": "python3"
  },
  "language_info": {
   "codemirror_mode": {
    "name": "ipython",
    "version": 3
   },
   "file_extension": ".py",
   "mimetype": "text/x-python",
   "name": "python",
   "nbconvert_exporter": "python",
   "pygments_lexer": "ipython3",
   "version": "3.11.5"
  }
 },
 "nbformat": 4,
 "nbformat_minor": 5
}
