{
 "cells": [
  {
   "cell_type": "code",
   "execution_count": 49,
   "id": "d5578ae1",
   "metadata": {},
   "outputs": [
    {
     "data": {
      "text/html": [
       "<div>\n",
       "<style scoped>\n",
       "    .dataframe tbody tr th:only-of-type {\n",
       "        vertical-align: middle;\n",
       "    }\n",
       "\n",
       "    .dataframe tbody tr th {\n",
       "        vertical-align: top;\n",
       "    }\n",
       "\n",
       "    .dataframe thead th {\n",
       "        text-align: right;\n",
       "    }\n",
       "</style>\n",
       "<table border=\"1\" class=\"dataframe\">\n",
       "  <thead>\n",
       "    <tr style=\"text-align: right;\">\n",
       "      <th></th>\n",
       "      <th>0</th>\n",
       "      <th>1</th>\n",
       "      <th>2</th>\n",
       "      <th>3</th>\n",
       "      <th>4</th>\n",
       "      <th>5</th>\n",
       "      <th>6</th>\n",
       "      <th>7</th>\n",
       "      <th>8</th>\n",
       "      <th>9</th>\n",
       "      <th>10</th>\n",
       "      <th>11</th>\n",
       "      <th>12</th>\n",
       "      <th>13</th>\n",
       "      <th>14</th>\n",
       "      <th>15</th>\n",
       "      <th>16</th>\n",
       "      <th>17</th>\n",
       "      <th>18</th>\n",
       "      <th>19</th>\n",
       "    </tr>\n",
       "  </thead>\n",
       "  <tbody>\n",
       "    <tr>\n",
       "      <th>0</th>\n",
       "      <td>shrimp</td>\n",
       "      <td>almonds</td>\n",
       "      <td>avocado</td>\n",
       "      <td>vegetables mix</td>\n",
       "      <td>green grapes</td>\n",
       "      <td>whole weat flour</td>\n",
       "      <td>yams</td>\n",
       "      <td>cottage cheese</td>\n",
       "      <td>energy drink</td>\n",
       "      <td>tomato juice</td>\n",
       "      <td>low fat yogurt</td>\n",
       "      <td>green tea</td>\n",
       "      <td>honey</td>\n",
       "      <td>salad</td>\n",
       "      <td>mineral water</td>\n",
       "      <td>salmon</td>\n",
       "      <td>antioxydant juice</td>\n",
       "      <td>frozen smoothie</td>\n",
       "      <td>spinach</td>\n",
       "      <td>olive oil</td>\n",
       "    </tr>\n",
       "    <tr>\n",
       "      <th>1</th>\n",
       "      <td>burgers</td>\n",
       "      <td>meatballs</td>\n",
       "      <td>eggs</td>\n",
       "      <td>NaN</td>\n",
       "      <td>NaN</td>\n",
       "      <td>NaN</td>\n",
       "      <td>NaN</td>\n",
       "      <td>NaN</td>\n",
       "      <td>NaN</td>\n",
       "      <td>NaN</td>\n",
       "      <td>NaN</td>\n",
       "      <td>NaN</td>\n",
       "      <td>NaN</td>\n",
       "      <td>NaN</td>\n",
       "      <td>NaN</td>\n",
       "      <td>NaN</td>\n",
       "      <td>NaN</td>\n",
       "      <td>NaN</td>\n",
       "      <td>NaN</td>\n",
       "      <td>NaN</td>\n",
       "    </tr>\n",
       "    <tr>\n",
       "      <th>2</th>\n",
       "      <td>chutney</td>\n",
       "      <td>NaN</td>\n",
       "      <td>NaN</td>\n",
       "      <td>NaN</td>\n",
       "      <td>NaN</td>\n",
       "      <td>NaN</td>\n",
       "      <td>NaN</td>\n",
       "      <td>NaN</td>\n",
       "      <td>NaN</td>\n",
       "      <td>NaN</td>\n",
       "      <td>NaN</td>\n",
       "      <td>NaN</td>\n",
       "      <td>NaN</td>\n",
       "      <td>NaN</td>\n",
       "      <td>NaN</td>\n",
       "      <td>NaN</td>\n",
       "      <td>NaN</td>\n",
       "      <td>NaN</td>\n",
       "      <td>NaN</td>\n",
       "      <td>NaN</td>\n",
       "    </tr>\n",
       "    <tr>\n",
       "      <th>3</th>\n",
       "      <td>turkey</td>\n",
       "      <td>avocado</td>\n",
       "      <td>NaN</td>\n",
       "      <td>NaN</td>\n",
       "      <td>NaN</td>\n",
       "      <td>NaN</td>\n",
       "      <td>NaN</td>\n",
       "      <td>NaN</td>\n",
       "      <td>NaN</td>\n",
       "      <td>NaN</td>\n",
       "      <td>NaN</td>\n",
       "      <td>NaN</td>\n",
       "      <td>NaN</td>\n",
       "      <td>NaN</td>\n",
       "      <td>NaN</td>\n",
       "      <td>NaN</td>\n",
       "      <td>NaN</td>\n",
       "      <td>NaN</td>\n",
       "      <td>NaN</td>\n",
       "      <td>NaN</td>\n",
       "    </tr>\n",
       "    <tr>\n",
       "      <th>4</th>\n",
       "      <td>mineral water</td>\n",
       "      <td>milk</td>\n",
       "      <td>energy bar</td>\n",
       "      <td>whole wheat rice</td>\n",
       "      <td>green tea</td>\n",
       "      <td>NaN</td>\n",
       "      <td>NaN</td>\n",
       "      <td>NaN</td>\n",
       "      <td>NaN</td>\n",
       "      <td>NaN</td>\n",
       "      <td>NaN</td>\n",
       "      <td>NaN</td>\n",
       "      <td>NaN</td>\n",
       "      <td>NaN</td>\n",
       "      <td>NaN</td>\n",
       "      <td>NaN</td>\n",
       "      <td>NaN</td>\n",
       "      <td>NaN</td>\n",
       "      <td>NaN</td>\n",
       "      <td>NaN</td>\n",
       "    </tr>\n",
       "    <tr>\n",
       "      <th>...</th>\n",
       "      <td>...</td>\n",
       "      <td>...</td>\n",
       "      <td>...</td>\n",
       "      <td>...</td>\n",
       "      <td>...</td>\n",
       "      <td>...</td>\n",
       "      <td>...</td>\n",
       "      <td>...</td>\n",
       "      <td>...</td>\n",
       "      <td>...</td>\n",
       "      <td>...</td>\n",
       "      <td>...</td>\n",
       "      <td>...</td>\n",
       "      <td>...</td>\n",
       "      <td>...</td>\n",
       "      <td>...</td>\n",
       "      <td>...</td>\n",
       "      <td>...</td>\n",
       "      <td>...</td>\n",
       "      <td>...</td>\n",
       "    </tr>\n",
       "    <tr>\n",
       "      <th>7496</th>\n",
       "      <td>butter</td>\n",
       "      <td>light mayo</td>\n",
       "      <td>fresh bread</td>\n",
       "      <td>NaN</td>\n",
       "      <td>NaN</td>\n",
       "      <td>NaN</td>\n",
       "      <td>NaN</td>\n",
       "      <td>NaN</td>\n",
       "      <td>NaN</td>\n",
       "      <td>NaN</td>\n",
       "      <td>NaN</td>\n",
       "      <td>NaN</td>\n",
       "      <td>NaN</td>\n",
       "      <td>NaN</td>\n",
       "      <td>NaN</td>\n",
       "      <td>NaN</td>\n",
       "      <td>NaN</td>\n",
       "      <td>NaN</td>\n",
       "      <td>NaN</td>\n",
       "      <td>NaN</td>\n",
       "    </tr>\n",
       "    <tr>\n",
       "      <th>7497</th>\n",
       "      <td>burgers</td>\n",
       "      <td>frozen vegetables</td>\n",
       "      <td>eggs</td>\n",
       "      <td>french fries</td>\n",
       "      <td>magazines</td>\n",
       "      <td>green tea</td>\n",
       "      <td>NaN</td>\n",
       "      <td>NaN</td>\n",
       "      <td>NaN</td>\n",
       "      <td>NaN</td>\n",
       "      <td>NaN</td>\n",
       "      <td>NaN</td>\n",
       "      <td>NaN</td>\n",
       "      <td>NaN</td>\n",
       "      <td>NaN</td>\n",
       "      <td>NaN</td>\n",
       "      <td>NaN</td>\n",
       "      <td>NaN</td>\n",
       "      <td>NaN</td>\n",
       "      <td>NaN</td>\n",
       "    </tr>\n",
       "    <tr>\n",
       "      <th>7498</th>\n",
       "      <td>chicken</td>\n",
       "      <td>NaN</td>\n",
       "      <td>NaN</td>\n",
       "      <td>NaN</td>\n",
       "      <td>NaN</td>\n",
       "      <td>NaN</td>\n",
       "      <td>NaN</td>\n",
       "      <td>NaN</td>\n",
       "      <td>NaN</td>\n",
       "      <td>NaN</td>\n",
       "      <td>NaN</td>\n",
       "      <td>NaN</td>\n",
       "      <td>NaN</td>\n",
       "      <td>NaN</td>\n",
       "      <td>NaN</td>\n",
       "      <td>NaN</td>\n",
       "      <td>NaN</td>\n",
       "      <td>NaN</td>\n",
       "      <td>NaN</td>\n",
       "      <td>NaN</td>\n",
       "    </tr>\n",
       "    <tr>\n",
       "      <th>7499</th>\n",
       "      <td>escalope</td>\n",
       "      <td>green tea</td>\n",
       "      <td>NaN</td>\n",
       "      <td>NaN</td>\n",
       "      <td>NaN</td>\n",
       "      <td>NaN</td>\n",
       "      <td>NaN</td>\n",
       "      <td>NaN</td>\n",
       "      <td>NaN</td>\n",
       "      <td>NaN</td>\n",
       "      <td>NaN</td>\n",
       "      <td>NaN</td>\n",
       "      <td>NaN</td>\n",
       "      <td>NaN</td>\n",
       "      <td>NaN</td>\n",
       "      <td>NaN</td>\n",
       "      <td>NaN</td>\n",
       "      <td>NaN</td>\n",
       "      <td>NaN</td>\n",
       "      <td>NaN</td>\n",
       "    </tr>\n",
       "    <tr>\n",
       "      <th>7500</th>\n",
       "      <td>eggs</td>\n",
       "      <td>frozen smoothie</td>\n",
       "      <td>yogurt cake</td>\n",
       "      <td>low fat yogurt</td>\n",
       "      <td>NaN</td>\n",
       "      <td>NaN</td>\n",
       "      <td>NaN</td>\n",
       "      <td>NaN</td>\n",
       "      <td>NaN</td>\n",
       "      <td>NaN</td>\n",
       "      <td>NaN</td>\n",
       "      <td>NaN</td>\n",
       "      <td>NaN</td>\n",
       "      <td>NaN</td>\n",
       "      <td>NaN</td>\n",
       "      <td>NaN</td>\n",
       "      <td>NaN</td>\n",
       "      <td>NaN</td>\n",
       "      <td>NaN</td>\n",
       "      <td>NaN</td>\n",
       "    </tr>\n",
       "  </tbody>\n",
       "</table>\n",
       "<p>7501 rows × 20 columns</p>\n",
       "</div>"
      ],
      "text/plain": [
       "                 0                  1            2                 3   \\\n",
       "0            shrimp            almonds      avocado    vegetables mix   \n",
       "1           burgers          meatballs         eggs               NaN   \n",
       "2           chutney                NaN          NaN               NaN   \n",
       "3            turkey            avocado          NaN               NaN   \n",
       "4     mineral water               milk   energy bar  whole wheat rice   \n",
       "...             ...                ...          ...               ...   \n",
       "7496         butter         light mayo  fresh bread               NaN   \n",
       "7497        burgers  frozen vegetables         eggs      french fries   \n",
       "7498        chicken                NaN          NaN               NaN   \n",
       "7499       escalope          green tea          NaN               NaN   \n",
       "7500           eggs    frozen smoothie  yogurt cake    low fat yogurt   \n",
       "\n",
       "                4                 5     6               7             8   \\\n",
       "0     green grapes  whole weat flour  yams  cottage cheese  energy drink   \n",
       "1              NaN               NaN   NaN             NaN           NaN   \n",
       "2              NaN               NaN   NaN             NaN           NaN   \n",
       "3              NaN               NaN   NaN             NaN           NaN   \n",
       "4        green tea               NaN   NaN             NaN           NaN   \n",
       "...            ...               ...   ...             ...           ...   \n",
       "7496           NaN               NaN   NaN             NaN           NaN   \n",
       "7497     magazines         green tea   NaN             NaN           NaN   \n",
       "7498           NaN               NaN   NaN             NaN           NaN   \n",
       "7499           NaN               NaN   NaN             NaN           NaN   \n",
       "7500           NaN               NaN   NaN             NaN           NaN   \n",
       "\n",
       "                9               10         11     12     13             14  \\\n",
       "0     tomato juice  low fat yogurt  green tea  honey  salad  mineral water   \n",
       "1              NaN             NaN        NaN    NaN    NaN            NaN   \n",
       "2              NaN             NaN        NaN    NaN    NaN            NaN   \n",
       "3              NaN             NaN        NaN    NaN    NaN            NaN   \n",
       "4              NaN             NaN        NaN    NaN    NaN            NaN   \n",
       "...            ...             ...        ...    ...    ...            ...   \n",
       "7496           NaN             NaN        NaN    NaN    NaN            NaN   \n",
       "7497           NaN             NaN        NaN    NaN    NaN            NaN   \n",
       "7498           NaN             NaN        NaN    NaN    NaN            NaN   \n",
       "7499           NaN             NaN        NaN    NaN    NaN            NaN   \n",
       "7500           NaN             NaN        NaN    NaN    NaN            NaN   \n",
       "\n",
       "          15                 16               17       18         19  \n",
       "0     salmon  antioxydant juice  frozen smoothie  spinach  olive oil  \n",
       "1        NaN                NaN              NaN      NaN        NaN  \n",
       "2        NaN                NaN              NaN      NaN        NaN  \n",
       "3        NaN                NaN              NaN      NaN        NaN  \n",
       "4        NaN                NaN              NaN      NaN        NaN  \n",
       "...      ...                ...              ...      ...        ...  \n",
       "7496     NaN                NaN              NaN      NaN        NaN  \n",
       "7497     NaN                NaN              NaN      NaN        NaN  \n",
       "7498     NaN                NaN              NaN      NaN        NaN  \n",
       "7499     NaN                NaN              NaN      NaN        NaN  \n",
       "7500     NaN                NaN              NaN      NaN        NaN  \n",
       "\n",
       "[7501 rows x 20 columns]"
      ]
     },
     "execution_count": 49,
     "metadata": {},
     "output_type": "execute_result"
    }
   ],
   "source": [
    "import pandas as pd\n",
    "df = pd.read_csv('Online retail.csv',header=None)\n",
    "df"
   ]
  },
  {
   "cell_type": "code",
   "execution_count": 50,
   "id": "1ea1a0ff",
   "metadata": {},
   "outputs": [
    {
     "data": {
      "text/plain": [
       "(7501, 20)"
      ]
     },
     "execution_count": 50,
     "metadata": {},
     "output_type": "execute_result"
    }
   ],
   "source": [
    "df.shape"
   ]
  },
  {
   "cell_type": "code",
   "execution_count": 52,
   "id": "5ba0bc37",
   "metadata": {},
   "outputs": [
    {
     "data": {
      "text/plain": [
       "['shrimp',\n",
       " 'almonds',\n",
       " 'avocado',\n",
       " 'vegetables mix',\n",
       " 'green grapes',\n",
       " 'whole weat flour',\n",
       " 'yams',\n",
       " 'cottage cheese',\n",
       " 'energy drink',\n",
       " 'tomato juice',\n",
       " 'low fat yogurt',\n",
       " 'green tea',\n",
       " 'honey',\n",
       " 'salad',\n",
       " 'mineral water',\n",
       " 'salmon',\n",
       " 'antioxydant juice',\n",
       " 'frozen smoothie',\n",
       " 'spinach',\n",
       " 'olive oil']"
      ]
     },
     "execution_count": 52,
     "metadata": {},
     "output_type": "execute_result"
    }
   ],
   "source": [
    "# converting the data to appropriate format\n",
    "trans = []\n",
    "\n",
    "for i in range(0, 7501):\n",
    "  trans.append([str(df.values[i,j]) for j in range(0, 20)])\n",
    "\n",
    "trans \n",
    "\n",
    "trans[0] #it gives rows"
   ]
  },
  {
   "cell_type": "code",
   "execution_count": 53,
   "id": "4ad8828f",
   "metadata": {},
   "outputs": [
    {
     "data": {
      "text/plain": [
       "['burgers',\n",
       " 'meatballs',\n",
       " 'eggs',\n",
       " 'nan',\n",
       " 'nan',\n",
       " 'nan',\n",
       " 'nan',\n",
       " 'nan',\n",
       " 'nan',\n",
       " 'nan',\n",
       " 'nan',\n",
       " 'nan',\n",
       " 'nan',\n",
       " 'nan',\n",
       " 'nan',\n",
       " 'nan',\n",
       " 'nan',\n",
       " 'nan',\n",
       " 'nan',\n",
       " 'nan']"
      ]
     },
     "execution_count": 53,
     "metadata": {},
     "output_type": "execute_result"
    }
   ],
   "source": [
    "trans[1]"
   ]
  },
  {
   "cell_type": "code",
   "execution_count": 55,
   "id": "0862ce6c",
   "metadata": {},
   "outputs": [
    {
     "data": {
      "text/plain": [
       "['chutney',\n",
       " 'nan',\n",
       " 'nan',\n",
       " 'nan',\n",
       " 'nan',\n",
       " 'nan',\n",
       " 'nan',\n",
       " 'nan',\n",
       " 'nan',\n",
       " 'nan',\n",
       " 'nan',\n",
       " 'nan',\n",
       " 'nan',\n",
       " 'nan',\n",
       " 'nan',\n",
       " 'nan',\n",
       " 'nan',\n",
       " 'nan',\n",
       " 'nan',\n",
       " 'nan']"
      ]
     },
     "execution_count": 55,
     "metadata": {},
     "output_type": "execute_result"
    }
   ],
   "source": [
    "trans[2]"
   ]
  },
  {
   "cell_type": "code",
   "execution_count": 56,
   "id": "c6e6184c",
   "metadata": {},
   "outputs": [
    {
     "data": {
      "text/plain": [
       "7501"
      ]
     },
     "execution_count": 56,
     "metadata": {},
     "output_type": "execute_result"
    }
   ],
   "source": [
    "len(trans)"
   ]
  },
  {
   "cell_type": "code",
   "execution_count": 5,
   "id": "12fa7ed0",
   "metadata": {},
   "outputs": [
    {
     "name": "stdout",
     "output_type": "stream",
     "text": [
      "Requirement already satisfied: apyori in c:\\users\\syed yaseen ali\\anaconda3\\lib\\site-packages (1.1.2)\n",
      "Note: you may need to restart the kernel to use updated packages.\n"
     ]
    }
   ],
   "source": [
    "pip install apyori"
   ]
  },
  {
   "cell_type": "code",
   "execution_count": 36,
   "id": "f286772a",
   "metadata": {},
   "outputs": [
    {
     "data": {
      "text/plain": [
       "9"
      ]
     },
     "execution_count": 36,
     "metadata": {},
     "output_type": "execute_result"
    }
   ],
   "source": [
    "from apyori import apriori\n",
    "\n",
    "rules = apriori(transactions = trans,min_support = 0.003,\n",
    "                                    min_confidence = 0.2,\n",
    "                                    min_lift = 3,\n",
    "                                    min_length = 2,\n",
    "                                    max_length = 2)\n",
    "\n",
    "\n",
    "rules\n",
    "\n",
    "results = list(rules)\n",
    "results\n",
    "len(results) "
   ]
  },
  {
   "cell_type": "code",
   "execution_count": 45,
   "id": "2baf4725",
   "metadata": {},
   "outputs": [
    {
     "data": {
      "text/plain": [
       "RelationRecord(items=frozenset({'light cream', 'chicken'}), support=0.004532728969470737, ordered_statistics=[OrderedStatistic(items_base=frozenset({'light cream'}), items_add=frozenset({'chicken'}), confidence=0.29059829059829057, lift=4.84395061728395)])"
      ]
     },
     "execution_count": 45,
     "metadata": {},
     "output_type": "execute_result"
    }
   ],
   "source": [
    "results[0]"
   ]
  },
  {
   "cell_type": "code",
   "execution_count": 39,
   "id": "bcaa054c",
   "metadata": {},
   "outputs": [
    {
     "data": {
      "text/plain": [
       "frozenset({'chicken', 'light cream'})"
      ]
     },
     "execution_count": 39,
     "metadata": {},
     "output_type": "execute_result"
    }
   ],
   "source": [
    "results[0][0]"
   ]
  },
  {
   "cell_type": "code",
   "execution_count": 40,
   "id": "d10d2550",
   "metadata": {},
   "outputs": [
    {
     "data": {
      "text/plain": [
       "0.004532728969470737"
      ]
     },
     "execution_count": 40,
     "metadata": {},
     "output_type": "execute_result"
    }
   ],
   "source": [
    "results[0][1]# support"
   ]
  },
  {
   "cell_type": "code",
   "execution_count": 41,
   "id": "4a564bf8",
   "metadata": {},
   "outputs": [
    {
     "data": {
      "text/plain": [
       "frozenset({'light cream'})"
      ]
     },
     "execution_count": 41,
     "metadata": {},
     "output_type": "execute_result"
    }
   ],
   "source": [
    "results[0][2][0][0] # base item"
   ]
  },
  {
   "cell_type": "code",
   "execution_count": 42,
   "id": "44289112",
   "metadata": {},
   "outputs": [
    {
     "data": {
      "text/plain": [
       "frozenset({'chicken'})"
      ]
     },
     "execution_count": 42,
     "metadata": {},
     "output_type": "execute_result"
    }
   ],
   "source": [
    "results[0][2][0][1] # add item"
   ]
  },
  {
   "cell_type": "code",
   "execution_count": 43,
   "id": "7c0d9ce3",
   "metadata": {},
   "outputs": [
    {
     "data": {
      "text/plain": [
       "0.29059829059829057"
      ]
     },
     "execution_count": 43,
     "metadata": {},
     "output_type": "execute_result"
    }
   ],
   "source": [
    "results[0][2][0][2] # confidence"
   ]
  },
  {
   "cell_type": "code",
   "execution_count": 44,
   "id": "80bc6f0d",
   "metadata": {},
   "outputs": [
    {
     "data": {
      "text/plain": [
       "4.84395061728395"
      ]
     },
     "execution_count": 44,
     "metadata": {},
     "output_type": "execute_result"
    }
   ],
   "source": [
    "results[0][2][0][3] # lift"
   ]
  },
  {
   "cell_type": "code",
   "execution_count": 47,
   "id": "d256794e",
   "metadata": {},
   "outputs": [],
   "source": [
    "a = []\n",
    "b = []\n",
    "c = []\n",
    "d = []\n",
    "e = []\n",
    "\n",
    "for i in range(0,9):\n",
    "    a.append(results[i][2][0][0])\n",
    "    b.append(results[i][2][0][1])\n",
    "    c.append(results[i][1])\n",
    "    d.append(results[i][2][0][2])\n",
    "    e.append(results[i][2][0][3])\n",
    "    \n",
    "    \n",
    "d1 = pd.DataFrame(a)\n",
    "d2 = pd.DataFrame(b)\n",
    "d3 = pd.DataFrame(c)\n",
    "d4 = pd.DataFrame(d)\n",
    "d5 = pd.DataFrame(e)    "
   ]
  },
  {
   "cell_type": "code",
   "execution_count": 48,
   "id": "2e753ac5",
   "metadata": {},
   "outputs": [
    {
     "data": {
      "text/html": [
       "<div>\n",
       "<style scoped>\n",
       "    .dataframe tbody tr th:only-of-type {\n",
       "        vertical-align: middle;\n",
       "    }\n",
       "\n",
       "    .dataframe tbody tr th {\n",
       "        vertical-align: top;\n",
       "    }\n",
       "\n",
       "    .dataframe thead th {\n",
       "        text-align: right;\n",
       "    }\n",
       "</style>\n",
       "<table border=\"1\" class=\"dataframe\">\n",
       "  <thead>\n",
       "    <tr style=\"text-align: right;\">\n",
       "      <th></th>\n",
       "      <th>0</th>\n",
       "      <th>0</th>\n",
       "      <th>0</th>\n",
       "      <th>0</th>\n",
       "      <th>0</th>\n",
       "    </tr>\n",
       "  </thead>\n",
       "  <tbody>\n",
       "    <tr>\n",
       "      <th>0</th>\n",
       "      <td>light cream</td>\n",
       "      <td>chicken</td>\n",
       "      <td>0.004533</td>\n",
       "      <td>0.290598</td>\n",
       "      <td>4.843951</td>\n",
       "    </tr>\n",
       "    <tr>\n",
       "      <th>1</th>\n",
       "      <td>mushroom cream sauce</td>\n",
       "      <td>escalope</td>\n",
       "      <td>0.005733</td>\n",
       "      <td>0.300699</td>\n",
       "      <td>3.790833</td>\n",
       "    </tr>\n",
       "    <tr>\n",
       "      <th>2</th>\n",
       "      <td>pasta</td>\n",
       "      <td>escalope</td>\n",
       "      <td>0.005866</td>\n",
       "      <td>0.372881</td>\n",
       "      <td>4.700812</td>\n",
       "    </tr>\n",
       "    <tr>\n",
       "      <th>3</th>\n",
       "      <td>fromage blanc</td>\n",
       "      <td>honey</td>\n",
       "      <td>0.003333</td>\n",
       "      <td>0.245098</td>\n",
       "      <td>5.164271</td>\n",
       "    </tr>\n",
       "    <tr>\n",
       "      <th>4</th>\n",
       "      <td>herb &amp; pepper</td>\n",
       "      <td>ground beef</td>\n",
       "      <td>0.015998</td>\n",
       "      <td>0.323450</td>\n",
       "      <td>3.291994</td>\n",
       "    </tr>\n",
       "    <tr>\n",
       "      <th>5</th>\n",
       "      <td>tomato sauce</td>\n",
       "      <td>ground beef</td>\n",
       "      <td>0.005333</td>\n",
       "      <td>0.377358</td>\n",
       "      <td>3.840659</td>\n",
       "    </tr>\n",
       "    <tr>\n",
       "      <th>6</th>\n",
       "      <td>light cream</td>\n",
       "      <td>olive oil</td>\n",
       "      <td>0.003200</td>\n",
       "      <td>0.205128</td>\n",
       "      <td>3.114710</td>\n",
       "    </tr>\n",
       "    <tr>\n",
       "      <th>7</th>\n",
       "      <td>whole wheat pasta</td>\n",
       "      <td>olive oil</td>\n",
       "      <td>0.007999</td>\n",
       "      <td>0.271493</td>\n",
       "      <td>4.122410</td>\n",
       "    </tr>\n",
       "    <tr>\n",
       "      <th>8</th>\n",
       "      <td>pasta</td>\n",
       "      <td>shrimp</td>\n",
       "      <td>0.005066</td>\n",
       "      <td>0.322034</td>\n",
       "      <td>4.506672</td>\n",
       "    </tr>\n",
       "  </tbody>\n",
       "</table>\n",
       "</div>"
      ],
      "text/plain": [
       "                      0            0         0         0         0\n",
       "0           light cream      chicken  0.004533  0.290598  4.843951\n",
       "1  mushroom cream sauce     escalope  0.005733  0.300699  3.790833\n",
       "2                 pasta     escalope  0.005866  0.372881  4.700812\n",
       "3         fromage blanc        honey  0.003333  0.245098  5.164271\n",
       "4         herb & pepper  ground beef  0.015998  0.323450  3.291994\n",
       "5          tomato sauce  ground beef  0.005333  0.377358  3.840659\n",
       "6           light cream    olive oil  0.003200  0.205128  3.114710\n",
       "7     whole wheat pasta    olive oil  0.007999  0.271493  4.122410\n",
       "8                 pasta       shrimp  0.005066  0.322034  4.506672"
      ]
     },
     "execution_count": 48,
     "metadata": {},
     "output_type": "execute_result"
    }
   ],
   "source": [
    "#To combine all df's in a tabular form\n",
    "df = pd.concat([d1,d2,d3,d4,d5],axis=1) \n",
    "df "
   ]
  },
  {
   "cell_type": "code",
   "execution_count": null,
   "id": "1186c1db",
   "metadata": {},
   "outputs": [],
   "source": [
    "# Insights:\n",
    "\n",
    "#There is a strong association between certain products, suggesting complementary purchases.\n",
    "#Customers who buy specific items tend to have a higher likelihood of purchasing related items.\n",
    "#These insights can be used to develop targeted recommendations and promotions for customers."
   ]
  },
  {
   "cell_type": "code",
   "execution_count": null,
   "id": "506a8339",
   "metadata": {},
   "outputs": [],
   "source": [
    "# INTERVIEW QUESTIONS:\n",
    "\n",
    "# 1. What is Lift and Why is it important in Association Rules?\n",
    "\n",
    "# Definition:\n",
    "# - Lift quantifies the increase in the likelihood of occurrence of item B given that item A has occurred, relative to the likelihood of B occurring independently of A.\n",
    "\n",
    "# Importance:\n",
    "# - Strength of Association: Lift helps to measure the strength of the association between items. A lift value greater than 1 indicates a positive association, meaning A and B occur together more frequently than would be expected by chance.\n",
    "# - Filtering Rules: It helps in filtering out rules that are statistically significant and not just artifacts of random variation. Rules with a lift of less than 1 suggest that A and B occur together less frequently than expected by chance."
   ]
  },
  {
   "cell_type": "code",
   "execution_count": null,
   "id": "09b56364",
   "metadata": {},
   "outputs": [],
   "source": [
    "# 2. What is Support and Confidence. How do you calculate them?\n",
    "\n",
    "# Support:\n",
    "# - Definition: Support measures how frequently a particular itemset (or rule) appears in the dataset.\n",
    "# - Importance: It indicates how prevalent an itemset is in the dataset. High support means the itemset is frequent and appears in many transactions, making it a candidate for a strong rule.\n",
    "# - Calculation: The ratio of the number of times an item appears in a transaction to the total number of transactions. A higher support value indicates that the item is more frequently purchased. \n",
    "\n",
    "# Confidence:\n",
    "# - Definition: Confidence measures how often item B appears in transactions that contain item A. It gives the probability of item B occurring given that item A has occurred.\n",
    "# - Importance: It measures the reliability of the rule. High confidence indicates that if A is present, B is likely to be present as well.\n",
    "# - Calculation: The likelihood that a product Y will be sold with product X. Confidence is calculated by dividing the support by the antecedent support."
   ]
  },
  {
   "cell_type": "code",
   "execution_count": null,
   "id": "2bbba50f",
   "metadata": {},
   "outputs": [],
   "source": [
    "# 3. What are some limitations or challenges of Association rules mining?\n",
    "\n",
    "# 1. Overfitting:\n",
    "# - Challenge: Generating too many rules can lead to overfitting, where the rules may describe noise or specific details in the training data that do not generalize well to new data.\n",
    "\n",
    "# 2. Interpretability:\n",
    "# - Challenge: With a large number of rules, it can be difficult to interpret and select the most relevant or actionable rules. The process of filtering out significant rules from a vast number of generated rules can be complex.\n",
    "\n",
    "# 3. Imbalanced Data:\n",
    "# - Challenge: If the dataset is imbalanced, where certain items are much more frequent than others, it can skew the results. Rare itemsets might not be discovered effectively, and frequent itemsets might dominate the results.\n",
    "\n",
    "# 4. Data Sparsity:\n",
    "# - Challenge: In datasets with a high degree of sparsity (many items appear in only a few transactions), it can be difficult to find meaningful associations. This sparsity can make it harder to identify significant rules."
   ]
  }
 ],
 "metadata": {
  "kernelspec": {
   "display_name": "Python 3 (ipykernel)",
   "language": "python",
   "name": "python3"
  },
  "language_info": {
   "codemirror_mode": {
    "name": "ipython",
    "version": 3
   },
   "file_extension": ".py",
   "mimetype": "text/x-python",
   "name": "python",
   "nbconvert_exporter": "python",
   "pygments_lexer": "ipython3",
   "version": "3.11.5"
  }
 },
 "nbformat": 4,
 "nbformat_minor": 5
}
