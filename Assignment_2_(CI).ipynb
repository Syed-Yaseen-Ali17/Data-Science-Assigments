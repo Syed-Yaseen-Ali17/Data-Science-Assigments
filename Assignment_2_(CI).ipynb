{
 "cells": [
  {
   "cell_type": "code",
   "execution_count": 19,
   "id": "316f656c",
   "metadata": {},
   "outputs": [],
   "source": [
    "# a. Build 99% Confidence Interval Using Sample Standard Deviation\n",
    "import numpy as np\n",
    "from scipy import stats\n",
    "\n",
    "# Sample data\n",
    "data = [1.13, 1.55, 1.43, 0.92, 1.25, 1.36, 1.32, 0.85, 1.07, 1.48, 1.20, 1.33, 1.18, 1.22, 1.29]"
   ]
  },
  {
   "cell_type": "code",
   "execution_count": 25,
   "id": "523dd5e9",
   "metadata": {},
   "outputs": [
    {
     "name": "stdout",
     "output_type": "stream",
     "text": [
      "1.2386666666666666\n",
      "0.19316412956959936\n"
     ]
    }
   ],
   "source": [
    "sample_mean = np.mean(data)\n",
    "sample_std = np.std(data, ddof=1)  # Use ddof=1 for sample standard deviation\n",
    "\n",
    "print(sample_mean)\n",
    "print(sample_std)"
   ]
  },
  {
   "cell_type": "code",
   "execution_count": 14,
   "id": "b3cfc7fa",
   "metadata": {},
   "outputs": [
    {
     "data": {
      "text/plain": [
       "14"
      ]
     },
     "execution_count": 14,
     "metadata": {},
     "output_type": "execute_result"
    }
   ],
   "source": [
    "#Sample size\n",
    "n = len(data)\n",
    "\n",
    "# Degrees of freedom\n",
    "df = n - 1\n",
    "df"
   ]
  },
  {
   "cell_type": "code",
   "execution_count": 16,
   "id": "29969f28",
   "metadata": {},
   "outputs": [
    {
     "name": "stdout",
     "output_type": "stream",
     "text": [
      "0.010000000000000009\n",
      "2.97684273411266\n"
     ]
    }
   ],
   "source": [
    "confidence_level = 0.99\n",
    "\n",
    "alpha = 1 - confidence_level\n",
    "t_critical = stats.t.ppf(1 - alpha / 2, df)\n",
    "print(alpha)\n",
    "print(t_critical)"
   ]
  },
  {
   "cell_type": "code",
   "execution_count": 28,
   "id": "558169fe",
   "metadata": {},
   "outputs": [
    {
     "name": "stdout",
     "output_type": "stream",
     "text": [
      "0.1484693282152996\n"
     ]
    }
   ],
   "source": [
    "margin_of_error = t_critical * (sample_std / np.sqrt(n))\n",
    "print(margin_of_error)"
   ]
  },
  {
   "cell_type": "code",
   "execution_count": 29,
   "id": "b6266514",
   "metadata": {},
   "outputs": [
    {
     "name": "stdout",
     "output_type": "stream",
     "text": [
      "99% Confidence Interval: (1.090197338451367, 1.3871359948819662)\n"
     ]
    }
   ],
   "source": [
    "confidence_interval = (sample_mean - margin_of_error, sample_mean + margin_of_error)\n",
    "print(\"99% Confidence Interval:\", confidence_interval)"
   ]
  },
  {
   "cell_type": "code",
   "execution_count": 7,
   "id": "31a6ea80",
   "metadata": {},
   "outputs": [],
   "source": [
    "# Explanation:\n",
    "\n",
    "# 1. T-Distribution: We use the t-distribution because the population standard deviation is unknown, and we are estimating it from the sample. The t-distribution is appropriate for small sample sizes and accounts for the uncertainty in the estimated standard deviation.\n",
    "\n",
    "# 2. Degrees of Freedom: The degrees of freedom (df) represent the number of independent pieces of information used to estimate a parameter. In this case, df = n - 1 because we are estimating the mean from the sample.\n",
    "\n",
    "# 3. T-Critical Value: The t-critical value is determined based on the desired confidence level and degrees of freedom. It represents the number of standard errors away from the mean that encompasses the specified confidence level.\n",
    "\n",
    "# 4. Margin of Error: The margin of error quantifies the uncertainty in the sample mean as an estimate of the population mean. It is calculated by multiplying the t-critical value by the standard error of the mean (sample_std / sqrt(n)).\n",
    "\n",
    "# 5. Confidence Interval: The confidence interval is a range of values within which we are confident (with the specified level of confidence) that the true population mean lies. It is calculated by subtracting and adding the margin of error to the sample mean."
   ]
  },
  {
   "cell_type": "code",
   "execution_count": 30,
   "id": "02669b37",
   "metadata": {},
   "outputs": [
    {
     "name": "stdout",
     "output_type": "stream",
     "text": [
      "99% Confidence Interval (with known population std): (1.1056514133957607, 1.3716819199375725)\n"
     ]
    }
   ],
   "source": [
    "#b. Build 99% Confidence Interval Using Known Population Standard Deviation\n",
    "\n",
    "population_std = 0.2\n",
    "\n",
    "z_critical = stats.norm.ppf(1 - alpha / 2)\n",
    "\n",
    "margin_of_error = z_critical * (population_std / np.sqrt(n))\n",
    "\n",
    "confidence_interval = (sample_mean - margin_of_error, sample_mean + margin_of_error)\n",
    "\n",
    "print(\"99% Confidence Interval (with known population std):\", confidence_interval)"
   ]
  }
 ],
 "metadata": {
  "kernelspec": {
   "display_name": "Python 3 (ipykernel)",
   "language": "python",
   "name": "python3"
  },
  "language_info": {
   "codemirror_mode": {
    "name": "ipython",
    "version": 3
   },
   "file_extension": ".py",
   "mimetype": "text/x-python",
   "name": "python",
   "nbconvert_exporter": "python",
   "pygments_lexer": "ipython3",
   "version": "3.11.5"
  }
 },
 "nbformat": 4,
 "nbformat_minor": 5
}
