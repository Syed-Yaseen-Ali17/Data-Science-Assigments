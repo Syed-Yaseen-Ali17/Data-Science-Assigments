{
 "cells": [
  {
   "cell_type": "code",
   "execution_count": 1,
   "id": "3fa3bd72",
   "metadata": {},
   "outputs": [],
   "source": [
    "# 1. State the Hypotheses:\n",
    "# Null Hypothesis (H0): The average weekly operating cost is equal to the theoretical model's prediction.\n",
    "# Alternative Hypothesis (H1): The average weekly operating cost is greater than the theoretical model's prediction."
   ]
  },
  {
   "cell_type": "code",
   "execution_count": 9,
   "id": "94f470f1",
   "metadata": {},
   "outputs": [
    {
     "name": "stdout",
     "output_type": "stream",
     "text": [
      "T-Statistic: -38.0\n"
     ]
    }
   ],
   "source": [
    "# 2. Calculate the Test Statistic:\n",
    "import pandas as pd\n",
    "import scipy.stats as stats\n",
    "\n",
    "# Theoretical mean cost based on the model\n",
    "theoretical_mean = 1000 + 5 * 600  \n",
    "\n",
    "# Sample mean cost\n",
    "sample_mean = 3050\n",
    "\n",
    "# Sample size\n",
    "n = 25\n",
    "\n",
    "# Standard deviation (given as 5 * 25)\n",
    "population_std = 5 * 25\n",
    "\n",
    "# Calculate the t-statistic \n",
    "t_statistic = (sample_mean - theoretical_mean) / (population_std / np.sqrt(n))\n",
    "\n",
    "print(\"T-Statistic:\", t_statistic)"
   ]
  },
  {
   "cell_type": "code",
   "execution_count": 10,
   "id": "b3eb40db",
   "metadata": {},
   "outputs": [
    {
     "name": "stdout",
     "output_type": "stream",
     "text": [
      "Critical Z-Value: 1.6448536269514722\n"
     ]
    }
   ],
   "source": [
    "# 3. Determine the Critical Value:\n",
    "alpha = 0.05\n",
    "z_critical = stats.norm.ppf(1 - alpha)\n",
    "print(\"Critical Z-Value:\", z_critical)"
   ]
  },
  {
   "cell_type": "code",
   "execution_count": 11,
   "id": "5bb6a43e",
   "metadata": {},
   "outputs": [
    {
     "name": "stdout",
     "output_type": "stream",
     "text": [
      "We fail to reject the null hypothesis.\n",
      "There is not enough evidence to support the restaurant owners' claim.\n"
     ]
    }
   ],
   "source": [
    "# 4. Make a Decision:\n",
    "if t_statistic > z_critical:\n",
    "  print(\"We reject the null hypothesis.\")\n",
    "  print(\"There is evidence to support the restaurant owners' claim that the average weekly operating cost is higher than the theoretical model's prediction.\")\n",
    "else:\n",
    "  print(\"We fail to reject the null hypothesis.\")\n",
    "  print(\"There is not enough evidence to support the restaurant owners' claim.\")"
   ]
  },
  {
   "cell_type": "code",
   "execution_count": 1,
   "id": "8f12d233",
   "metadata": {},
   "outputs": [],
   "source": [
    "# 5. Conclusion:\n",
    "# - There is not enough evidence to support the restaurant owner's claim that the average weekly operating cost is higher than the theoretical model's prediction.\n",
    "# - Hence Further investigation is recommended to verify the claim of the restaurant owner."
   ]
  }
 ],
 "metadata": {
  "kernelspec": {
   "display_name": "Python 3 (ipykernel)",
   "language": "python",
   "name": "python3"
  },
  "language_info": {
   "codemirror_mode": {
    "name": "ipython",
    "version": 3
   },
   "file_extension": ".py",
   "mimetype": "text/x-python",
   "name": "python",
   "nbconvert_exporter": "python",
   "pygments_lexer": "ipython3",
   "version": "3.11.5"
  }
 },
 "nbformat": 4,
 "nbformat_minor": 5
}
